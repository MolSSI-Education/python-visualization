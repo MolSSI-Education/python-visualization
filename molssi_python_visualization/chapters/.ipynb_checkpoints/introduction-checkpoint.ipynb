{
 "cells": [
  {
   "cell_type": "markdown",
   "id": "hollywood-packaging",
   "metadata": {},
   "source": [
    "Preparing to Plot\n",
    "==============\n",
    "\n",
    "\n",
    "In this workshop, we will use `matplotlib` to visualize Hydrogen Atom orbitals. If you've taken an introductory quantum chemistry class, you will have seen visualizations of these before, most likely in your textbook. \n",
    "\n",
    "You can see some visualizations [here](https://en.wikipedia.org/wiki/Atomic_orbital#/media/File:Hydrogen_Density_Plots.png). Even if you haven't yet taken quantum chemistry, the shapes of the s and p orbitals will probably be familar to you from your introductory chemistry classes.\n",
    "\n",
    "We will be working with pre-calculated data that is in text files. As part of the set-up you should have downloaded these files, and we will explain what is in them as we visualize them. For the purpose of this workshop, it's not important that you have a deep understanding of the data, or that you understand how it was calculated."
   ]
  },
  {
   "cell_type": "markdown",
   "id": "finished-profession",
   "metadata": {},
   "source": [
    "Reading Data using Pandas\n",
    "---------------------------------\n",
    "\n",
    "In order to plot and create visualizations with our data, we first have to get it into a form that python can recongize and work with. We will be using the python library [pandas](https://pandas.pydata.org/). To read in our text files. Pandas is a library that is very widely used in data science.\n",
    "\n",
    "Using `pandas`, you can read data into python and work with your data. The data we want to work with are in `.csv` files, or `comma separated value` files. The first file we will work with is called `s_orbitals_1D.csv`. This text file contains the value of the 1s, 2s and 3s orbitals in the xy plane for different values of x. If you examine this in a text editor, you will see there is a header, rows, and that values are separated by commas.\n",
    "\n",
    "Pandas can easily read this type of file using a function called `read_csv`. You can also open files like this in Excel, or even save csv files from Excel. \n",
    "\n",
    "First, we will need to import pandas. The pandas library is usually shortened to `pd`. We will use the function `pd.read_csv` to read the csv file."
   ]
  },
  {
   "cell_type": "code",
   "execution_count": 2,
   "id": "supported-vacuum",
   "metadata": {},
   "outputs": [],
   "source": [
    "import pandas as pd\n",
    "\n",
    "s_orbitals = pd.read_csv(\"s_orbitals_1D.csv\")"
   ]
  },
  {
   "cell_type": "markdown",
   "id": "electronic-porter",
   "metadata": {},
   "source": [
    "Our data is now in the variable called `s_orbitals`. This variable is something called a pandas dataframe. It resembles a spreadsheet - it has rows and columns. We can see a preview of what is in the variable by using `s_orbitals.head()`. It will show us the first five rows."
   ]
  },
  {
   "cell_type": "code",
   "execution_count": 3,
   "id": "silent-revelation",
   "metadata": {},
   "outputs": [
    {
     "data": {
      "text/html": [
       "<div>\n",
       "<style scoped>\n",
       "    .dataframe tbody tr th:only-of-type {\n",
       "        vertical-align: middle;\n",
       "    }\n",
       "\n",
       "    .dataframe tbody tr th {\n",
       "        vertical-align: top;\n",
       "    }\n",
       "\n",
       "    .dataframe thead th {\n",
       "        text-align: right;\n",
       "    }\n",
       "</style>\n",
       "<table border=\"1\" class=\"dataframe\">\n",
       "  <thead>\n",
       "    <tr style=\"text-align: right;\">\n",
       "      <th></th>\n",
       "      <th>x</th>\n",
       "      <th>1s</th>\n",
       "      <th>2s</th>\n",
       "      <th>3s</th>\n",
       "    </tr>\n",
       "  </thead>\n",
       "  <tbody>\n",
       "    <tr>\n",
       "      <th>0</th>\n",
       "      <td>0.000000</td>\n",
       "      <td>0.564190</td>\n",
       "      <td>0.199471</td>\n",
       "      <td>0.108578</td>\n",
       "    </tr>\n",
       "    <tr>\n",
       "      <th>1</th>\n",
       "      <td>0.517241</td>\n",
       "      <td>0.336349</td>\n",
       "      <td>0.088163</td>\n",
       "      <td>0.061683</td>\n",
       "    </tr>\n",
       "    <tr>\n",
       "      <th>2</th>\n",
       "      <td>1.034483</td>\n",
       "      <td>0.200519</td>\n",
       "      <td>0.034225</td>\n",
       "      <td>0.029966</td>\n",
       "    </tr>\n",
       "    <tr>\n",
       "      <th>3</th>\n",
       "      <td>1.551724</td>\n",
       "      <td>0.119542</td>\n",
       "      <td>0.009473</td>\n",
       "      <td>0.009313</td>\n",
       "    </tr>\n",
       "    <tr>\n",
       "      <th>4</th>\n",
       "      <td>2.068966</td>\n",
       "      <td>0.071266</td>\n",
       "      <td>-0.000869</td>\n",
       "      <td>-0.003390</td>\n",
       "    </tr>\n",
       "  </tbody>\n",
       "</table>\n",
       "</div>"
      ],
      "text/plain": [
       "          x        1s        2s        3s\n",
       "0  0.000000  0.564190  0.199471  0.108578\n",
       "1  0.517241  0.336349  0.088163  0.061683\n",
       "2  1.034483  0.200519  0.034225  0.029966\n",
       "3  1.551724  0.119542  0.009473  0.009313\n",
       "4  2.068966  0.071266 -0.000869 -0.003390"
      ]
     },
     "execution_count": 3,
     "metadata": {},
     "output_type": "execute_result"
    }
   ],
   "source": [
    "s_orbitals.head()"
   ]
  },
  {
   "cell_type": "code",
   "execution_count": null,
   "id": "monthly-heavy",
   "metadata": {},
   "outputs": [],
   "source": []
  }
 ],
 "metadata": {
  "kernelspec": {
   "display_name": "Python 3",
   "language": "python",
   "name": "python3"
  },
  "language_info": {
   "codemirror_mode": {
    "name": "ipython",
    "version": 3
   },
   "file_extension": ".py",
   "mimetype": "text/x-python",
   "name": "python",
   "nbconvert_exporter": "python",
   "pygments_lexer": "ipython3",
   "version": "3.8.6"
  }
 },
 "nbformat": 4,
 "nbformat_minor": 5
}
