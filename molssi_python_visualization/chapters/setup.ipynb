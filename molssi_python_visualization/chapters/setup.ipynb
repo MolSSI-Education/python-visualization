{
 "cells": [
  {
   "cell_type": "markdown",
   "id": "collective-theorem",
   "metadata": {},
   "source": [
    "Set Up\n",
    "=====\n",
    "\n",
    "This workshop covers data visualization using the Python programming language. Before proceeding, you should be familar with python syntax like setting variables, logic statements, and for loops, and using a Jupyter notebook. It is also beneficial for you to have experience with NumPy arrays. \n",
    "\n",
    "If you don't have this experience, we recommend first checkout out the first four lessons [MolSSI's Intro Python Workshop](https://education.molssi.org/python_scripting_cms/). You can see recordings from a webinar series which covered this material [here]().\n",
    "\n",
    "## Installing Python through Anaconda\n",
    "[Python](https://python.org/) is a popular language for scientific computing, and great for general-purpose programming as well. Installing all of its scientific packages individually can be a bit difficult, however, so we recommend the all-in-one installer Anaconda.\n",
    "\n",
    "1. Navigate to the [download page](https://www.anaconda.com/products/individual) for Anaconda.\n",
    "2. Download the appropriate installer for your operating system. **Make sure you get the installer listed under Python 3** (not 2.7).\n",
    "3. Double click the installer icon and follow the set-up instructions, keeping most of the default options. If you are Windows, make sure to choose to choose the option **Make Anaconda the default Python** during installation.\n",
    "\n",
    "\n",
    "## Obtain lesson materials\n",
    "1. Download the files needed for these lessons \n",
    "2. Create a folder called `cms-workshop` on your Desktop.\n",
    "3. Move the downloaded materials to the new folder.\n",
    "4. Unzip the file.  \n",
    "\n",
    "## Start a Jupyter notebook\n",
    "From Finder or Spotlight (Mac OS) or the Start Menu (Windows) find the Anaconda Navigator.  The icon looks like a green circle.  Click Launch under Jupyter Notebook.  It may take a few seconds to load the page, especially if it is the first time you have ever used the jupyter notebook, so don't panic if nothing loads for a few seconds.  Then a new window should open in your default internet browser. Use the file navigation window to navigate to `Desktop` and then to the `cms-workshop` folder.  In the upper right hand corner, click New, then choose Python 3 from the dropdown list (shown below)\n",
    "\n",
    "<img src=\"fig/setup_fig1.png\" width=\"70%\">\n",
    "\n",
    "This will start a new Jupyter notebook using Python 3. You're ready to go!\n",
    "\n",
    "\n",
    "{% include links.md %}\n"
   ]
  },
  {
   "cell_type": "code",
   "execution_count": null,
   "id": "future-duncan",
   "metadata": {},
   "outputs": [],
   "source": []
  }
 ],
 "metadata": {
  "kernelspec": {
   "display_name": "Python 3",
   "language": "python",
   "name": "python3"
  },
  "language_info": {
   "codemirror_mode": {
    "name": "ipython",
    "version": 3
   },
   "file_extension": ".py",
   "mimetype": "text/x-python",
   "name": "python",
   "nbconvert_exporter": "python",
   "pygments_lexer": "ipython3",
   "version": "3.8.6"
  }
 },
 "nbformat": 4,
 "nbformat_minor": 5
}
