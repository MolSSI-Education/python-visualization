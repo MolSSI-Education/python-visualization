{
 "cells": [
  {
   "cell_type": "markdown",
   "metadata": {},
   "source": [
    "Plots with Plotly Express\n",
    "====================\n",
    "\n",
    "The plotly library has two plotting interfaces, or APIs you can work with. The simplest"
   ]
  },
  {
   "cell_type": "markdown",
   "metadata": {},
   "source": [
    "Creating a Line Plot with Plotly Express\n",
    "----------------------------------------------"
   ]
  },
  {
   "cell_type": "code",
   "execution_count": null,
   "metadata": {},
   "outputs": [],
   "source": [
    "import pandas as pd\n",
    "import plotly.express as px"
   ]
  },
  {
   "cell_type": "code",
   "execution_count": null,
   "metadata": {},
   "outputs": [],
   "source": [
    "s_orbitals = pd.read_csv(\"s_orbitals_1D.csv\")\n",
    "\n",
    "s_orbitals.head()"
   ]
  },
  {
   "cell_type": "code",
   "execution_count": null,
   "metadata": {},
   "outputs": [],
   "source": [
    "fig = px.line(s_orbitals, x=\"r\", y=\"1s\")\n",
    "fig.show()"
   ]
  },
  {
   "cell_type": "markdown",
   "metadata": {},
   "source": [
    "Adding more lines"
   ]
  },
  {
   "cell_type": "code",
   "execution_count": null,
   "metadata": {},
   "outputs": [],
   "source": [
    "fig = px.line(s_orbitals, x=\"r\", y=[\"1s\", \"2s\", \"3s\"])\n",
    "fig.show()"
   ]
  },
  {
   "cell_type": "markdown",
   "metadata": {},
   "source": [
    "Changing labels - plotly also supports using symbols."
   ]
  },
  {
   "cell_type": "code",
   "execution_count": null,
   "metadata": {},
   "outputs": [],
   "source": [
    "fig = px.line(s_orbitals, x=\"r\", y=[\"1s\", \"2s\", \"3s\"], labels={\"r\":\"r\", \"value\":r\"$\\psi$\", \"variable\": \"orbital\"})\n",
    "fig.show()"
   ]
  },
  {
   "cell_type": "markdown",
   "metadata": {},
   "source": [
    "Creating a Map Plot with Plotly Express\n",
    "----------------------------------------------\n",
    "\n",
    "Plotly Express has some fun maps you can make which are probably not the kind of maps you usually make as a physical scientist. For example, we can create a map which shows locations of institutions of the students registered for this webinar. We will read in a file called `visualization_institutions.csv` which has institution names, the latitude, the longitude, and the count of the number of students."
   ]
  },
  {
   "cell_type": "code",
   "execution_count": null,
   "metadata": {},
   "outputs": [],
   "source": [
    "student_locations = pd.read_csv(\"visualization_institutions.csv\")\n",
    "student_locations.head()"
   ]
  },
  {
   "cell_type": "markdown",
   "metadata": {},
   "source": [
    "This plot is very easy to create once we have our data in the right format. In fact, you may be more interested in how we obtained the latitude/longitude data and unique institutions. We used the `google maps` API and some `pandas` magic to do this, but we would be happy to provide you with a script upon request (you will have to make your own Google Maps API key).\n",
    "\n",
    "Plotly Express has a `scatter_geo` function which allows us to pass latitude and longitude as coordinates. For this plot, we are setting the marker size to be the count of the number of students, and for the institution name to show up when we hover over a point."
   ]
  },
  {
   "cell_type": "code",
   "execution_count": null,
   "metadata": {},
   "outputs": [],
   "source": [
    "fig = px.scatter_geo(student_locations, lat=\"lat\", lon=\"lon\", size=\"count\", hover_name=\"institution\")\n",
    "fig.show()"
   ]
  },
  {
   "cell_type": "code",
   "execution_count": null,
   "metadata": {},
   "outputs": [],
   "source": []
  }
 ],
 "metadata": {
  "kernelspec": {
   "display_name": "Python 3",
   "language": "python",
   "name": "python3"
  },
  "language_info": {
   "codemirror_mode": {
    "name": "ipython",
    "version": 3
   },
   "file_extension": ".py",
   "mimetype": "text/x-python",
   "name": "python",
   "nbconvert_exporter": "python",
   "pygments_lexer": "ipython3",
   "version": "3.8.6"
  }
 },
 "nbformat": 4,
 "nbformat_minor": 4
}
